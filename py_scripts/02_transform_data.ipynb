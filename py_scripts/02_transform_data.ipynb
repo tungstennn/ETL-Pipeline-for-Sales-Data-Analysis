{
 "cells": [
  {
   "cell_type": "markdown",
   "metadata": {},
   "source": [
    "## Import the necessary modules"
   ]
  },
  {
   "cell_type": "code",
   "execution_count": 35,
   "metadata": {},
   "outputs": [],
   "source": [
    "import pandas as pd\n",
    "import numpy as np\n",
    "import matplotlib.pyplot as plt\n",
    "import seaborn as sns"
   ]
  },
  {
   "cell_type": "code",
   "execution_count": 36,
   "metadata": {},
   "outputs": [],
   "source": [
    "# Load the saved CSV file into a new DataFrame\n",
    "df = pd.read_csv('extracted_data.csv')"
   ]
  },
  {
   "cell_type": "markdown",
   "metadata": {},
   "source": [
    "## Data Quality Checks\n",
    "Performing checks on columns of interest to ensure data integrity and reliability.\n",
    "\n"
   ]
  },
  {
   "cell_type": "code",
   "execution_count": 37,
   "metadata": {},
   "outputs": [
    {
     "name": "stdout",
     "output_type": "stream",
     "text": [
      "           date     category    sales region\n",
      "0    2023/04/09     Clothing   973.80  South\n",
      "1    2023-12-03         Toys      NaN   West\n",
      "2    2023-05-31  Electronics   500.00  North\n",
      "3    2023-03-16          NaN   606.42   East\n",
      "4    2023-05-28     Clothing  9999.99   East\n",
      "..          ...          ...      ...    ...\n",
      "995  2023-03-25         Home   798.74   West\n",
      "996  2023-06-03         Home   708.32   East\n",
      "997  2023-06-22  Electronics   265.83  South\n",
      "998  2023-10-28  Electronics    98.78   West\n",
      "999  2023-11-08         Home   109.26  North\n",
      "\n",
      "[1000 rows x 4 columns]\n"
     ]
    }
   ],
   "source": [
    "print(df)"
   ]
  },
  {
   "cell_type": "markdown",
   "metadata": {},
   "source": [
    "From just a brief view of the data, it can be seen that there are some null values, inconsistent date formats, and potentially other inconsistencies.\n",
    "\n",
    "Further cleaning and validation is required."
   ]
  },
  {
   "cell_type": "markdown",
   "metadata": {},
   "source": [
    "### Null Values Check\n",
    "\n",
    "-  `.isnull()` and `.sum()` are used to analyse the null value count and stored as `missing_values`\n",
    "\n",
    "- `(missing_values / len(df_films)) * 100` returns the percentage of missing values from the total number of values in the column and stores the result as `missing_percentage`"
   ]
  },
  {
   "cell_type": "code",
   "execution_count": 38,
   "metadata": {},
   "outputs": [
    {
     "name": "stdout",
     "output_type": "stream",
     "text": [
      "Missing Values:\n",
      "date        0\n",
      "category    1\n",
      "sales       1\n",
      "region      0\n",
      "dtype: int64\n",
      "\n",
      "Missing Values Percentage:\n",
      "date        0.0\n",
      "category    0.1\n",
      "sales       0.1\n",
      "region      0.0\n",
      "dtype: float64\n"
     ]
    }
   ],
   "source": [
    "# Data quality checks for DataFrame\n",
    "\n",
    "# Check for missing values\n",
    "missing_values = df.isnull().sum()\n",
    "missing_percentage = (missing_values / len(df)) * 100\n",
    "print(\"Missing Values:\")\n",
    "print(missing_values)\n",
    "print(\"\\nMissing Values Percentage:\")\n",
    "print(missing_percentage)"
   ]
  },
  {
   "cell_type": "markdown",
   "metadata": {},
   "source": [
    "- Above we can observe that the missing values in the data account for 0.1% of the entire dataset. \n",
    "- Removing null values from data would be a suitable solution as missing values would not affect the overall distribution of the data. \n",
    "\n",
    "### Removing missing values\n",
    "\n",
    "- `.dropna()` function will remove records that have missing values in any of their columns\n",
    "- `.isnull().sum()` counts how many missing values there are in each column to confirm all null values have been removed"
   ]
  },
  {
   "cell_type": "code",
   "execution_count": 39,
   "metadata": {},
   "outputs": [
    {
     "data": {
      "text/plain": [
       "date        0\n",
       "category    0\n",
       "sales       0\n",
       "region      0\n",
       "dtype: int64"
      ]
     },
     "execution_count": 39,
     "metadata": {},
     "output_type": "execute_result"
    }
   ],
   "source": [
    "df = df.dropna()\n",
    "df.isnull().sum()"
   ]
  },
  {
   "cell_type": "markdown",
   "metadata": {},
   "source": [
    "### Date format Check\n",
    "- I want to first see how many date values I have that don't have a hyphen (`-`). `.str.contains('-')` checks if the string contains a hyphen\n",
    "    - It's observed that only 1 date does'nt have a hyphen. It has forward slashes instead (`/`)\n",
    "    - Since it's only 1 record, it is possible to remove the entire entry, however a quick fix would make it useful for us\n",
    "- `.str.replace('/', '-')` replaces any hyphen with a forward slash\n"
   ]
  },
  {
   "cell_type": "code",
   "execution_count": 40,
   "metadata": {},
   "outputs": [
    {
     "name": "stdout",
     "output_type": "stream",
     "text": [
      "         date     category    sales region\n",
      "0  2023-04-09     Clothing   973.80  South\n",
      "2  2023-05-31  Electronics   500.00  North\n",
      "4  2023-05-28     Clothing  9999.99   East\n",
      "5  2023-01-08         Toys   133.06  North\n",
      "6  2023-04-27         Home   246.14  South\n"
     ]
    }
   ],
   "source": [
    "df[~df['date'].str.contains('-')]  # '~' means not\n",
    "\n",
    "# Convert date separator from 'YYYY/MM/DD' to 'YYYY-MM-DD'\n",
    "df['date'] = df['date'].str.replace('/', '-')\n",
    "\n",
    "print(df.head())"
   ]
  },
  {
   "cell_type": "markdown",
   "metadata": {},
   "source": [
    "### Convert date column from object to datetime data type\n",
    "- Leaving the date column as a string would result in limited analysis\n",
    "- Therefore, for more thorough analytics, all columns must be set to their appropriate data type"
   ]
  },
  {
   "cell_type": "code",
   "execution_count": 41,
   "metadata": {},
   "outputs": [
    {
     "name": "stdout",
     "output_type": "stream",
     "text": [
      "date        datetime64[ns]\n",
      "category            object\n",
      "sales              float64\n",
      "region              object\n",
      "dtype: object\n"
     ]
    }
   ],
   "source": [
    "df['date'] = pd.to_datetime(df['date'], format='%Y-%m-%d')\n",
    "\n",
    "print(df.dtypes)"
   ]
  },
  {
   "cell_type": "markdown",
   "metadata": {},
   "source": [
    "### Check for Consistent Categorical Values\n",
    "- `print(df[column].unique())` returns a list of all the distinct objects in the `column`\n",
    "- Both `category` and `region` were checked for any inconsistent values (i.e. difference in capitalisation, whitespace, etc)\n",
    "- Consistent column naming was observed below, therefore no changes are required here"
   ]
  },
  {
   "cell_type": "code",
   "execution_count": 42,
   "metadata": {},
   "outputs": [
    {
     "name": "stdout",
     "output_type": "stream",
     "text": [
      "['Clothing' 'Electronics' 'Toys' 'Home']\n",
      "['South' 'North' 'East' 'West']\n"
     ]
    }
   ],
   "source": [
    "# Check unique values in the 'category' column\n",
    "print(df['category'].unique())\n",
    "\n",
    "# Check unique values in the 'region' column\n",
    "print(df['region'].unique())\n"
   ]
  },
  {
   "cell_type": "markdown",
   "metadata": {},
   "source": [
    "### Check for Outliers (P1)\n",
    "- The min value, 1st, 2nd and 3rd quartile, are all significantly smaller than the max value\n",
    "- The 3rd quartile is approx. £780 whereas the max value is approx. £10,000\n",
    "- This may point to an anomaly in the data"
   ]
  },
  {
   "cell_type": "code",
   "execution_count": 43,
   "metadata": {},
   "outputs": [
    {
     "name": "stdout",
     "output_type": "stream",
     "text": [
      "                                date        sales\n",
      "count                            998   998.000000\n",
      "mean   2023-06-30 17:07:20.080160256   524.022034\n",
      "min              2023-01-01 00:00:00    10.420000\n",
      "25%              2023-04-01 00:00:00   247.745000\n",
      "50%              2023-06-28 00:00:00   522.785000\n",
      "75%              2023-09-29 18:00:00   782.752500\n",
      "max              2023-12-31 00:00:00  9999.990000\n",
      "std                              NaN   421.227253\n"
     ]
    }
   ],
   "source": [
    "print(df.describe())"
   ]
  },
  {
   "cell_type": "markdown",
   "metadata": {},
   "source": [
    "### Check for outliers (P2)\n",
    "- Using the boxplot visualisation in the seaborn library, we can better identify any outliers in the `sales` column\n",
    "- The whiskers on the boxplot are used to see where the minimum and maximum values of the place, given they do not fall outside the general distribution of sales data\n",
    "- Any values that do fall outside the general distribution are considered to be outliers\n",
    "- From the visualisation below, we can see that most of the sales data falls within £1000, whereas the 1 outlier observed has a value of approx. £10,000"
   ]
  },
  {
   "cell_type": "code",
   "execution_count": 44,
   "metadata": {},
   "outputs": [
    {
     "data": {
      "image/png": "[encoded data removed]",
      "text/plain": [
       "<Figure size 1200x100 with 1 Axes>"
      ]
     },
     "metadata": {},
     "output_type": "display_data"
    }
   ],
   "source": [
    "plt.figure(figsize=(12,1))\n",
    "sns.boxplot(x=\"sales\", data=df)\n",
    "plt.show()"
   ]
  },
  {
   "cell_type": "markdown",
   "metadata": {},
   "source": [
    "### Check for outliers (P3)\n",
    "- Although it is possible that the outlier was a valid sale price, for the context of this project I've decided to remove that record from the dataset\n",
    "- Filtering out the data so only records with a sales price less than 2000 are included in the dataset"
   ]
  },
  {
   "cell_type": "code",
   "execution_count": 46,
   "metadata": {},
   "outputs": [],
   "source": [
    "df = df[df['sales']<= 2000]"
   ]
  },
  {
   "cell_type": "markdown",
   "metadata": {},
   "source": [
    "### Save the DataFrame as a CSV file for the next notebook:"
   ]
  },
  {
   "cell_type": "code",
   "execution_count": 48,
   "metadata": {},
   "outputs": [
    {
     "name": "stdout",
     "output_type": "stream",
     "text": [
      "<class 'pandas.core.frame.DataFrame'>\n",
      "Index: 997 entries, 0 to 999\n",
      "Data columns (total 4 columns):\n",
      " #   Column    Non-Null Count  Dtype         \n",
      "---  ------    --------------  -----         \n",
      " 0   date      997 non-null    datetime64[ns]\n",
      " 1   category  997 non-null    object        \n",
      " 2   sales     997 non-null    float64       \n",
      " 3   region    997 non-null    object        \n",
      "dtypes: datetime64[ns](1), float64(1), object(2)\n",
      "memory usage: 38.9+ KB\n"
     ]
    }
   ],
   "source": [
    "# Save the DataFrame as a CSV file\n",
    "df.to_csv('cleaned_sales_data.csv', index=False)\n",
    "\n",
    "df.info()"
   ]
  }
 ],
 "metadata": {
  "kernelspec": {
   "display_name": ".venv",
   "language": "python",
   "name": "python3"
  },
  "language_info": {
   "codemirror_mode": {
    "name": "ipython",
    "version": 3
   },
   "file_extension": ".py",
   "mimetype": "text/x-python",
   "name": "python",
   "nbconvert_exporter": "python",
   "pygments_lexer": "ipython3",
   "version": "3.12.6"
  }
 },
 "nbformat": 4,
 "nbformat_minor": 2
}
