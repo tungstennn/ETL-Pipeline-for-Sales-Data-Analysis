{
 "cells": [
  {
   "cell_type": "markdown",
   "metadata": {},
   "source": [
    "## Import Necessary Modules"
   ]
  },
  {
   "cell_type": "code",
   "execution_count": 22,
   "metadata": {},
   "outputs": [],
   "source": [
    "import pandas as pd\n",
    "import numpy as np\n",
    "import pymysql\n",
    "from sqlalchemy import create_engine"
   ]
  },
  {
   "cell_type": "code",
   "execution_count": 23,
   "metadata": {},
   "outputs": [],
   "source": [
    "# Load the saved CSV file into a new DataFrame\n",
    "df = pd.read_csv('transformed_sales_data.csv')"
   ]
  },
  {
   "cell_type": "markdown",
   "metadata": {},
   "source": [
    "### Convert the date column back into the right dtype"
   ]
  },
  {
   "cell_type": "code",
   "execution_count": 24,
   "metadata": {},
   "outputs": [
    {
     "name": "stdout",
     "output_type": "stream",
     "text": [
      "<class 'pandas.core.frame.DataFrame'>\n",
      "RangeIndex: 997 entries, 0 to 996\n",
      "Data columns (total 4 columns):\n",
      " #   Column    Non-Null Count  Dtype  \n",
      "---  ------    --------------  -----  \n",
      " 0   date      997 non-null    object \n",
      " 1   category  997 non-null    object \n",
      " 2   sales     997 non-null    float64\n",
      " 3   region    997 non-null    object \n",
      "dtypes: float64(1), object(3)\n",
      "memory usage: 31.3+ KB\n",
      "None\n",
      "______________________________________________________\n",
      "<class 'pandas.core.frame.DataFrame'>\n",
      "RangeIndex: 997 entries, 0 to 996\n",
      "Data columns (total 4 columns):\n",
      " #   Column    Non-Null Count  Dtype         \n",
      "---  ------    --------------  -----         \n",
      " 0   date      997 non-null    datetime64[ns]\n",
      " 1   category  997 non-null    object        \n",
      " 2   sales     997 non-null    float64       \n",
      " 3   region    997 non-null    object        \n",
      "dtypes: datetime64[ns](1), float64(1), object(2)\n",
      "memory usage: 31.3+ KB\n",
      "None\n"
     ]
    }
   ],
   "source": [
    "print(df.info())   # When converted into a CSV, the date column doesn't recognize it should be a datetime object\n",
    "\n",
    "df['date'] = pd.to_datetime(df['date'], format='%Y-%m-%d')  # reconverting it back to a datetime is required\n",
    "print('______________________________________________________')\n",
    "\n",
    "print(df.info())  # Now the date column is recognized as a datetime object, enabling more advanced analysis.\n"
   ]
  },
  {
   "cell_type": "code",
   "execution_count": 28,
   "metadata": {},
   "outputs": [
    {
     "name": "stdout",
     "output_type": "stream",
     "text": [
      "Connection successful!\n",
      "Database 'sales' created successfully!\n",
      "Data loaded into the 'sales_data' table successfully!\n"
     ]
    }
   ],
   "source": [
    "import os\n",
    "import pymysql\n",
    "from sqlalchemy import create_engine\n",
    "\n",
    "# Database connection details\n",
    "db_host = \"terraform-20250105012255554200000002.c7a2k8acyv0y.eu-west-2.rds.amazonaws.com:3306\" # os.getenv('db_host')\n",
    "db_name = 'mysql'\n",
    "db_user =  'tungstennnuser1' #     os.getenv('db_username')\n",
    "db_password = 'hellolondon123!!'       # os.getenv('db_password')\n",
    "\n",
    "# Create a connection to RDS\n",
    "\n",
    "connection_string = f'mysql+pymysql://{db_user}:{db_password}@{db_host}/{db_name}'\n",
    "engine = create_engine(connection_string)\n",
    "\n",
    "with engine.connect() as connection:\n",
    "    print(\"Connection successful!\")\n",
    "    \n",
    "    with connection.connection.cursor() as cursor:\n",
    "        # SQL to create a database\n",
    "        query = \"CREATE DATABASE IF NOT EXISTS sales;\"\n",
    "        cursor.execute(query)\n",
    "        print(\"Database 'sales' created successfully!\")\n",
    "        \n",
    "# Update connection string to point to the new database\n",
    "sales_connection_string = f'mysql+pymysql://{db_user}:{db_password}@{db_host}/sales'\n",
    "sales_engine = create_engine(sales_connection_string)\n",
    "\n",
    "# Load transformed data into the new database\n",
    "df.to_sql('sales_data', con=sales_engine, if_exists='replace', index=False)\n",
    "print(\"Data loaded into the 'sales_data' table successfully!\")\n",
    "\n",
    "        \n",
    "\n",
    "\n",
    "# Load transformed data into RDS\n",
    "#df.to_sql('sales_data', con=engine, if_exists='replace', index=False)\n"
   ]
  },
  {
   "cell_type": "code",
   "execution_count": 29,
   "metadata": {},
   "outputs": [
    {
     "name": "stdout",
     "output_type": "stream",
     "text": [
      "Data from sales_data table:\n",
      "          date     category   sales region\n",
      "0   2023-04-09     Clothing  973.80  South\n",
      "1   2023-05-31  Electronics  500.00  North\n",
      "2   2023-01-08         Toys  133.06  North\n",
      "3   2023-04-27         Home  246.14  South\n",
      "4   2023-08-30         Toys  253.09  South\n",
      "..         ...          ...     ...    ...\n",
      "992 2023-03-25         Home  798.74   West\n",
      "993 2023-06-03         Home  708.32   East\n",
      "994 2023-06-22  Electronics  265.83  South\n",
      "995 2023-10-28  Electronics   98.78   West\n",
      "996 2023-11-08         Home  109.26  North\n",
      "\n",
      "[997 rows x 4 columns]\n"
     ]
    }
   ],
   "source": [
    "import pandas as pd\n",
    "from sqlalchemy import create_engine\n",
    "\n",
    "# Connection string to the sales database\n",
    "db_host = \"terraform-20250105012255554200000002.c7a2k8acyv0y.eu-west-2.rds.amazonaws.com:3306\"\n",
    "db_name = 'sales'\n",
    "db_user = 'tungstennnuser1'\n",
    "db_password = 'hellolondon123!!'\n",
    "\n",
    "connection_string = f'mysql+pymysql://{db_user}:{db_password}@{db_host}/{db_name}'\n",
    "engine = create_engine(connection_string)\n",
    "\n",
    "# Query the sales_data table\n",
    "try:\n",
    "    with engine.connect() as connection:\n",
    "        df = pd.read_sql(\"SELECT * FROM sales_data\", con=connection)\n",
    "        print(\"Data from sales_data table:\")\n",
    "        print(df)\n",
    "except Exception as e:\n",
    "    print(\"An error occurred:\", e)\n",
    "\n"
   ]
  }
 ],
 "metadata": {
  "kernelspec": {
   "display_name": ".venv",
   "language": "python",
   "name": "python3"
  },
  "language_info": {
   "codemirror_mode": {
    "name": "ipython",
    "version": 3
   },
   "file_extension": ".py",
   "mimetype": "text/x-python",
   "name": "python",
   "nbconvert_exporter": "python",
   "pygments_lexer": "ipython3",
   "version": "3.12.6"
  }
 },
 "nbformat": 4,
 "nbformat_minor": 2
}
