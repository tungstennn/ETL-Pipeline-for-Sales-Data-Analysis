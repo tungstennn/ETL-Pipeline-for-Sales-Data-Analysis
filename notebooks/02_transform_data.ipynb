{
 "cells": [
  {
   "cell_type": "markdown",
   "metadata": {},
   "source": [
    "## Import the necessary modules"
   ]
  },
  {
   "cell_type": "code",
   "execution_count": 11,
   "metadata": {},
   "outputs": [],
   "source": [
    "import pandas as pd\n",
    "import numpy as np"
   ]
  },
  {
   "cell_type": "code",
   "execution_count": 12,
   "metadata": {},
   "outputs": [
    {
     "data": {
      "text/html": [
       "<div>\n",
       "<style scoped>\n",
       "    .dataframe tbody tr th:only-of-type {\n",
       "        vertical-align: middle;\n",
       "    }\n",
       "\n",
       "    .dataframe tbody tr th {\n",
       "        vertical-align: top;\n",
       "    }\n",
       "\n",
       "    .dataframe thead th {\n",
       "        text-align: right;\n",
       "    }\n",
       "</style>\n",
       "<table border=\"1\" class=\"dataframe\">\n",
       "  <thead>\n",
       "    <tr style=\"text-align: right;\">\n",
       "      <th></th>\n",
       "      <th>date</th>\n",
       "      <th>category</th>\n",
       "      <th>sales</th>\n",
       "      <th>region</th>\n",
       "    </tr>\n",
       "  </thead>\n",
       "  <tbody>\n",
       "    <tr>\n",
       "      <th>0</th>\n",
       "      <td>2023/04/09</td>\n",
       "      <td>Clothing</td>\n",
       "      <td>973.80</td>\n",
       "      <td>South</td>\n",
       "    </tr>\n",
       "    <tr>\n",
       "      <th>1</th>\n",
       "      <td>2023-12-03</td>\n",
       "      <td>Toys</td>\n",
       "      <td>NaN</td>\n",
       "      <td>West</td>\n",
       "    </tr>\n",
       "    <tr>\n",
       "      <th>2</th>\n",
       "      <td>2023-05-31</td>\n",
       "      <td>Electronics</td>\n",
       "      <td>500.00</td>\n",
       "      <td>North</td>\n",
       "    </tr>\n",
       "    <tr>\n",
       "      <th>3</th>\n",
       "      <td>2023-03-16</td>\n",
       "      <td>NaN</td>\n",
       "      <td>606.42</td>\n",
       "      <td>East</td>\n",
       "    </tr>\n",
       "    <tr>\n",
       "      <th>4</th>\n",
       "      <td>2023-05-28</td>\n",
       "      <td>Clothing</td>\n",
       "      <td>9999.99</td>\n",
       "      <td>East</td>\n",
       "    </tr>\n",
       "  </tbody>\n",
       "</table>\n",
       "</div>"
      ],
      "text/plain": [
       "         date     category    sales region\n",
       "0  2023/04/09     Clothing   973.80  South\n",
       "1  2023-12-03         Toys      NaN   West\n",
       "2  2023-05-31  Electronics   500.00  North\n",
       "3  2023-03-16          NaN   606.42   East\n",
       "4  2023-05-28     Clothing  9999.99   East"
      ]
     },
     "execution_count": 12,
     "metadata": {},
     "output_type": "execute_result"
    }
   ],
   "source": [
    "# Load the saved CSV file into a new DataFrame\n",
    "df = pd.read_csv('extracted_data.csv')\n",
    "\n",
    "df.head()"
   ]
  },
  {
   "cell_type": "markdown",
   "metadata": {},
   "source": [
    "## Data Quality Checks\n",
    "Performing checks on columns of interest to ensure data integrity and reliability.\n",
    "\n",
    "### Null Values Check\n",
    "\n",
    "- `.isnull()` and `.sum()` are used to analyse the null value count and stored as `missing_values`\n",
    "\n",
    "- `(missing_values / len(df_films)) * 100` returns the percentage of missing values from the total number of values in the column and stores the result as `missing_percentage`"
   ]
  },
  {
   "cell_type": "code",
   "execution_count": 13,
   "metadata": {},
   "outputs": [
    {
     "name": "stdout",
     "output_type": "stream",
     "text": [
      "Missing Values:\n",
      "date        0\n",
      "category    1\n",
      "sales       1\n",
      "region      0\n",
      "dtype: int64\n",
      "\n",
      "Missing Values Percentage:\n",
      "date        0.0\n",
      "category    0.1\n",
      "sales       0.1\n",
      "region      0.0\n",
      "dtype: float64\n"
     ]
    }
   ],
   "source": [
    "# Data quality checks for DataFrame\n",
    "\n",
    "# Check for missing values\n",
    "missing_values = df.isnull().sum()\n",
    "missing_percentage = (missing_values / len(df)) * 100\n",
    "print(\"Missing Values:\")\n",
    "print(missing_values)\n",
    "print(\"\\nMissing Values Percentage:\")\n",
    "print(missing_percentage)"
   ]
  },
  {
   "cell_type": "code",
   "execution_count": 17,
   "metadata": {},
   "outputs": [
    {
     "name": "stdout",
     "output_type": "stream",
     "text": [
      "             sales\n",
      "count   999.000000\n",
      "mean    524.104515\n",
      "std     421.024235\n",
      "min      10.420000\n",
      "25%     247.780000\n",
      "50%     524.760000\n",
      "75%     782.715000\n",
      "max    9999.990000\n"
     ]
    }
   ],
   "source": [
    "print(df.describe())"
   ]
  },
  {
   "cell_type": "code",
   "execution_count": 16,
   "metadata": {},
   "outputs": [
    {
     "name": "stdout",
     "output_type": "stream",
     "text": [
      "date         object\n",
      "category     object\n",
      "sales       float64\n",
      "region       object\n",
      "dtype: object\n"
     ]
    }
   ],
   "source": [
    "print(df.dtypes) # Checking for inconsistent data types\n",
    "\n",
    "#df['date'] = pd.to_datetime(df['date'])\n",
    "\n",
    "#print(df.dtypes)\n"
   ]
  }
 ],
 "metadata": {
  "kernelspec": {
   "display_name": ".venv",
   "language": "python",
   "name": "python3"
  },
  "language_info": {
   "codemirror_mode": {
    "name": "ipython",
    "version": 3
   },
   "file_extension": ".py",
   "mimetype": "text/x-python",
   "name": "python",
   "nbconvert_exporter": "python",
   "pygments_lexer": "ipython3",
   "version": "3.12.6"
  }
 },
 "nbformat": 4,
 "nbformat_minor": 2
}
